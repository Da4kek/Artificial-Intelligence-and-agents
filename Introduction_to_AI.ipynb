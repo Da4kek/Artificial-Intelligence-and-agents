{
 "cells": [
  {
   "attachments": {},
   "cell_type": "markdown",
   "metadata": {},
   "source": [
    "> The AI is one of the fascinating and universal fields of Computer Science. \n",
    "\n",
    "> Where Artificial means \"man-made\" and intelligence means \"ability to think\". So AI means \"man-made ability to think\"."
   ]
  },
  {
   "attachments": {},
   "cell_type": "markdown",
   "metadata": {},
   "source": [
    "```\n",
    "\"\"\"It is a branch of computer science by which we can create intelligent machines which can behave like human, think like humans and able to make decisions.\"\"\"\n",
    "```"
   ]
  },
  {
   "attachments": {},
   "cell_type": "markdown",
   "metadata": {},
   "source": [
    "**Why AI?**\n",
    "* With the help of AI, you can create such software or devices which can solve real-world problems very easily and with accuracy such as health issues, marketing, traffic issues, etc.\n",
    "* With the help of AI, you can create your personal virtual Assistant, such as Cortana, Google Assistant, Siri, etc.\n",
    "* With the help of AI, you can build such Robots which can work in an environment where survival of humans can be at risk.\n",
    "* AI opens a path for other new technologies, new devices, and new Opportunities.\n",
    "* With the help of AI, we can reduce medical errors too."
   ]
  },
  {
   "attachments": {},
   "cell_type": "markdown",
   "metadata": {},
   "source": [
    "**Goals of AI**\n",
    "1. Replicate human intelligent\n",
    "2. Solve knowledge-intensive tasks\n",
    "3. Mimic human level cognitions\n",
    "4. Creating some system which can exhibit intelligent behavior, learn new things by itself, evolve and can advise to its user."
   ]
  },
  {
   "attachments": {},
   "cell_type": "markdown",
   "metadata": {},
   "source": [
    "**Advantages:**\n",
    "1. High Accuracy with less errors\n",
    "2. High-speed\n",
    "3. High reliability\n",
    "4. Useful for risky areas\n",
    "5. Digital Assistant\n",
    "6. Useful as a public utility"
   ]
  },
  {
   "attachments": {},
   "cell_type": "markdown",
   "metadata": {},
   "source": [
    "**Disadvantages:**\n",
    "1. High cost\n",
    "2. Can't think out of the box\n",
    "3. No feelings nor emotions\n",
    "4. Increase dependency on machines and computational costs"
   ]
  },
  {
   "attachments": {},
   "cell_type": "markdown",
   "metadata": {},
   "source": [
    "**Fields where AI can be applied to:**\n",
    "1. AI in Astronomy\n",
    "2. Healthcare\n",
    "3. Gaming\n",
    "4. Finance\n",
    "5. Data security\n",
    "6. Travel and transport\n",
    "7. Robotics\n",
    "8. Entertainment\n",
    "9. Agriculture\n",
    "10. Education\n",
    "11. Psychology\n",
    "\n",
    "*Ai can be used in most of the fields tbh.*"
   ]
  },
  {
   "attachments": {},
   "cell_type": "markdown",
   "metadata": {},
   "source": [
    "**history:**\n",
    "\n",
    "![History](https://static.javatpoint.com/tutorial/ai/images/history-of-ai.png)\n",
    "\n",
    "`Source: Javatpoint`"
   ]
  },
  {
   "cell_type": "markdown",
   "metadata": {},
   "source": []
  }
 ],
 "metadata": {
  "language_info": {
   "name": "python"
  },
  "orig_nbformat": 4
 },
 "nbformat": 4,
 "nbformat_minor": 2
}
